{
 "cells": [
  {
   "cell_type": "code",
   "execution_count": 1,
   "metadata": {},
   "outputs": [],
   "source": [
    "import pandas as pd"
   ]
  },
  {
   "cell_type": "code",
   "execution_count": 4,
   "metadata": {},
   "outputs": [],
   "source": [
    "df = pd.read_csv('C:/Users/jatin/Desktop/dlProject/data.csv')"
   ]
  },
  {
   "cell_type": "code",
   "execution_count": 5,
   "metadata": {},
   "outputs": [
    {
     "data": {
      "text/html": [
       "<div>\n",
       "<style scoped>\n",
       "    .dataframe tbody tr th:only-of-type {\n",
       "        vertical-align: middle;\n",
       "    }\n",
       "\n",
       "    .dataframe tbody tr th {\n",
       "        vertical-align: top;\n",
       "    }\n",
       "\n",
       "    .dataframe thead th {\n",
       "        text-align: right;\n",
       "    }\n",
       "</style>\n",
       "<table border=\"1\" class=\"dataframe\">\n",
       "  <thead>\n",
       "    <tr style=\"text-align: right;\">\n",
       "      <th></th>\n",
       "      <th>Age</th>\n",
       "      <th>Gender</th>\n",
       "      <th>Income</th>\n",
       "      <th>Education</th>\n",
       "      <th>Marital Status</th>\n",
       "      <th>Number of Children</th>\n",
       "      <th>Home Ownership</th>\n",
       "      <th>Credit Score</th>\n",
       "    </tr>\n",
       "  </thead>\n",
       "  <tbody>\n",
       "    <tr>\n",
       "      <th>0</th>\n",
       "      <td>25</td>\n",
       "      <td>Female</td>\n",
       "      <td>50000</td>\n",
       "      <td>Bachelor's Degree</td>\n",
       "      <td>Single</td>\n",
       "      <td>0</td>\n",
       "      <td>Rented</td>\n",
       "      <td>High</td>\n",
       "    </tr>\n",
       "    <tr>\n",
       "      <th>1</th>\n",
       "      <td>30</td>\n",
       "      <td>Male</td>\n",
       "      <td>100000</td>\n",
       "      <td>Master's Degree</td>\n",
       "      <td>Married</td>\n",
       "      <td>2</td>\n",
       "      <td>Owned</td>\n",
       "      <td>High</td>\n",
       "    </tr>\n",
       "    <tr>\n",
       "      <th>2</th>\n",
       "      <td>35</td>\n",
       "      <td>Female</td>\n",
       "      <td>75000</td>\n",
       "      <td>Doctorate</td>\n",
       "      <td>Married</td>\n",
       "      <td>1</td>\n",
       "      <td>Owned</td>\n",
       "      <td>High</td>\n",
       "    </tr>\n",
       "    <tr>\n",
       "      <th>3</th>\n",
       "      <td>40</td>\n",
       "      <td>Male</td>\n",
       "      <td>125000</td>\n",
       "      <td>High School Diploma</td>\n",
       "      <td>Single</td>\n",
       "      <td>0</td>\n",
       "      <td>Owned</td>\n",
       "      <td>High</td>\n",
       "    </tr>\n",
       "    <tr>\n",
       "      <th>4</th>\n",
       "      <td>45</td>\n",
       "      <td>Female</td>\n",
       "      <td>100000</td>\n",
       "      <td>Bachelor's Degree</td>\n",
       "      <td>Married</td>\n",
       "      <td>3</td>\n",
       "      <td>Owned</td>\n",
       "      <td>High</td>\n",
       "    </tr>\n",
       "  </tbody>\n",
       "</table>\n",
       "</div>"
      ],
      "text/plain": [
       "   Age  Gender  Income            Education Marital Status  \\\n",
       "0   25  Female   50000    Bachelor's Degree         Single   \n",
       "1   30    Male  100000      Master's Degree        Married   \n",
       "2   35  Female   75000            Doctorate        Married   \n",
       "3   40    Male  125000  High School Diploma         Single   \n",
       "4   45  Female  100000    Bachelor's Degree        Married   \n",
       "\n",
       "   Number of Children Home Ownership Credit Score  \n",
       "0                   0         Rented         High  \n",
       "1                   2          Owned         High  \n",
       "2                   1          Owned         High  \n",
       "3                   0          Owned         High  \n",
       "4                   3          Owned         High  "
      ]
     },
     "execution_count": 5,
     "metadata": {},
     "output_type": "execute_result"
    }
   ],
   "source": [
    "df.head()"
   ]
  },
  {
   "cell_type": "code",
   "execution_count": 6,
   "metadata": {},
   "outputs": [
    {
     "data": {
      "text/plain": [
       "array(['High', 'Average', 'Low'], dtype=object)"
      ]
     },
     "execution_count": 6,
     "metadata": {},
     "output_type": "execute_result"
    }
   ],
   "source": [
    "df['Credit Score'].unique()"
   ]
  },
  {
   "cell_type": "code",
   "execution_count": 7,
   "metadata": {},
   "outputs": [
    {
     "name": "stdout",
     "output_type": "stream",
     "text": [
      "<class 'pandas.core.frame.DataFrame'>\n",
      "RangeIndex: 164 entries, 0 to 163\n",
      "Data columns (total 8 columns):\n",
      " #   Column              Non-Null Count  Dtype \n",
      "---  ------              --------------  ----- \n",
      " 0   Age                 164 non-null    int64 \n",
      " 1   Gender              164 non-null    object\n",
      " 2   Income              164 non-null    int64 \n",
      " 3   Education           164 non-null    object\n",
      " 4   Marital Status      164 non-null    object\n",
      " 5   Number of Children  164 non-null    int64 \n",
      " 6   Home Ownership      164 non-null    object\n",
      " 7   Credit Score        164 non-null    object\n",
      "dtypes: int64(3), object(5)\n",
      "memory usage: 10.4+ KB\n"
     ]
    }
   ],
   "source": [
    "df.info()"
   ]
  },
  {
   "cell_type": "code",
   "execution_count": 9,
   "metadata": {},
   "outputs": [],
   "source": [
    "import pandas as pd\n",
    "import numpy as np\n",
    "from sklearn.model_selection import train_test_split\n",
    "from sklearn.preprocessing import StandardScaler, OneHotEncoder\n",
    "from sklearn.compose import ColumnTransformer\n",
    "from tensorflow import keras\n",
    "from tensorflow.keras import layers\n"
   ]
  },
  {
   "cell_type": "code",
   "execution_count": 10,
   "metadata": {},
   "outputs": [],
   "source": [
    "# Convert categorical variables to one-hot encoded features\n",
    "categorical_features = ['Gender', 'Education', 'Marital Status', 'Home Ownership']\n",
    "numerical_features = ['Age', 'Income', 'Number of Children']\n"
   ]
  },
  {
   "cell_type": "code",
   "execution_count": 11,
   "metadata": {},
   "outputs": [],
   "source": [
    "preprocessor = ColumnTransformer(\n",
    "    transformers=[\n",
    "        ('num', StandardScaler(), numerical_features),\n",
    "        ('cat', OneHotEncoder(), categorical_features)\n",
    "    ])"
   ]
  },
  {
   "cell_type": "code",
   "execution_count": 12,
   "metadata": {},
   "outputs": [],
   "source": [
    "X = preprocessor.fit_transform(df.drop('Credit Score', axis=1))\n",
    "y = df['Credit Score']"
   ]
  },
  {
   "cell_type": "code",
   "execution_count": 13,
   "metadata": {},
   "outputs": [],
   "source": [
    "# Split the data into training and validation sets\n",
    "X_train, X_val, y_train, y_val = train_test_split(X, y, test_size=0.2, random_state=42)"
   ]
  },
  {
   "cell_type": "code",
   "execution_count": 41,
   "metadata": {},
   "outputs": [],
   "source": [
    "# Convert target labels to one-hot encoded format\n",
    "y_train_encoded = pd.get_dummies(y_train)\n",
    "y_val_encoded = pd.get_dummies(y_val)"
   ]
  },
  {
   "cell_type": "code",
   "execution_count": 51,
   "metadata": {},
   "outputs": [
    {
     "name": "stdout",
     "output_type": "stream",
     "text": [
      "Epoch 1/100\n",
      "9/9 [==============================] - 1s 48ms/step - loss: 0.9065 - accuracy: 0.6260 - val_loss: 0.6774 - val_accuracy: 0.9394\n",
      "Epoch 2/100\n",
      "9/9 [==============================] - 0s 15ms/step - loss: 0.5682 - accuracy: 0.9160 - val_loss: 0.4796 - val_accuracy: 0.8182\n",
      "Epoch 3/100\n",
      "9/9 [==============================] - 0s 11ms/step - loss: 0.3766 - accuracy: 0.9084 - val_loss: 0.3786 - val_accuracy: 0.8182\n",
      "Epoch 4/100\n",
      "9/9 [==============================] - 0s 12ms/step - loss: 0.2798 - accuracy: 0.9008 - val_loss: 0.3149 - val_accuracy: 0.7879\n",
      "Epoch 5/100\n",
      "9/9 [==============================] - 0s 20ms/step - loss: 0.2314 - accuracy: 0.9008 - val_loss: 0.2579 - val_accuracy: 0.8485\n",
      "Epoch 6/100\n",
      "9/9 [==============================] - 0s 13ms/step - loss: 0.1958 - accuracy: 0.9466 - val_loss: 0.2125 - val_accuracy: 0.9394\n",
      "Epoch 7/100\n",
      "9/9 [==============================] - 0s 13ms/step - loss: 0.1785 - accuracy: 0.9542 - val_loss: 0.1854 - val_accuracy: 0.9697\n",
      "Epoch 8/100\n",
      "9/9 [==============================] - 0s 13ms/step - loss: 0.1711 - accuracy: 0.9771 - val_loss: 0.1656 - val_accuracy: 0.9697\n",
      "Epoch 9/100\n",
      "9/9 [==============================] - 0s 13ms/step - loss: 0.1529 - accuracy: 0.9771 - val_loss: 0.1559 - val_accuracy: 0.9091\n",
      "Epoch 10/100\n",
      "9/9 [==============================] - 0s 11ms/step - loss: 0.1414 - accuracy: 0.9466 - val_loss: 0.1528 - val_accuracy: 0.9091\n",
      "Epoch 11/100\n",
      "9/9 [==============================] - 0s 11ms/step - loss: 0.1326 - accuracy: 0.9466 - val_loss: 0.1382 - val_accuracy: 0.9091\n",
      "Epoch 12/100\n",
      "9/9 [==============================] - 0s 10ms/step - loss: 0.1233 - accuracy: 0.9542 - val_loss: 0.1210 - val_accuracy: 0.9697\n",
      "Epoch 13/100\n",
      "9/9 [==============================] - 0s 11ms/step - loss: 0.1134 - accuracy: 0.9847 - val_loss: 0.1111 - val_accuracy: 0.9697\n",
      "Epoch 14/100\n",
      "9/9 [==============================] - 0s 16ms/step - loss: 0.1068 - accuracy: 0.9847 - val_loss: 0.1038 - val_accuracy: 0.9697\n",
      "Epoch 15/100\n",
      "9/9 [==============================] - 0s 18ms/step - loss: 0.0999 - accuracy: 0.9847 - val_loss: 0.0984 - val_accuracy: 0.9697\n",
      "Epoch 16/100\n",
      "9/9 [==============================] - 0s 10ms/step - loss: 0.1002 - accuracy: 0.9847 - val_loss: 0.0906 - val_accuracy: 1.0000\n",
      "Epoch 17/100\n",
      "9/9 [==============================] - 0s 9ms/step - loss: 0.0914 - accuracy: 0.9847 - val_loss: 0.0866 - val_accuracy: 0.9697\n",
      "Epoch 18/100\n",
      "9/9 [==============================] - 0s 10ms/step - loss: 0.0940 - accuracy: 0.9847 - val_loss: 0.0855 - val_accuracy: 0.9697\n",
      "Epoch 19/100\n",
      "9/9 [==============================] - 0s 16ms/step - loss: 0.0863 - accuracy: 0.9847 - val_loss: 0.0780 - val_accuracy: 0.9697\n",
      "Epoch 20/100\n",
      "9/9 [==============================] - 0s 16ms/step - loss: 0.0796 - accuracy: 0.9847 - val_loss: 0.0668 - val_accuracy: 1.0000\n",
      "Epoch 21/100\n",
      "9/9 [==============================] - 0s 9ms/step - loss: 0.0769 - accuracy: 0.9847 - val_loss: 0.0657 - val_accuracy: 1.0000\n",
      "Epoch 22/100\n",
      "9/9 [==============================] - 0s 10ms/step - loss: 0.0731 - accuracy: 0.9924 - val_loss: 0.0631 - val_accuracy: 1.0000\n",
      "Epoch 23/100\n",
      "9/9 [==============================] - 0s 10ms/step - loss: 0.0687 - accuracy: 0.9924 - val_loss: 0.0636 - val_accuracy: 1.0000\n",
      "Epoch 24/100\n",
      "9/9 [==============================] - 0s 11ms/step - loss: 0.0677 - accuracy: 0.9924 - val_loss: 0.0617 - val_accuracy: 1.0000\n",
      "Epoch 25/100\n",
      "9/9 [==============================] - 0s 15ms/step - loss: 0.0639 - accuracy: 0.9924 - val_loss: 0.0569 - val_accuracy: 1.0000\n",
      "Epoch 26/100\n",
      "9/9 [==============================] - 0s 13ms/step - loss: 0.0626 - accuracy: 0.9924 - val_loss: 0.0574 - val_accuracy: 0.9697\n",
      "Epoch 27/100\n",
      "9/9 [==============================] - 0s 10ms/step - loss: 0.0590 - accuracy: 0.9924 - val_loss: 0.0559 - val_accuracy: 0.9697\n",
      "Epoch 28/100\n",
      "9/9 [==============================] - 0s 11ms/step - loss: 0.0592 - accuracy: 0.9924 - val_loss: 0.0553 - val_accuracy: 1.0000\n",
      "Epoch 29/100\n",
      "9/9 [==============================] - 0s 11ms/step - loss: 0.0568 - accuracy: 0.9924 - val_loss: 0.0500 - val_accuracy: 1.0000\n",
      "Epoch 30/100\n",
      "9/9 [==============================] - 0s 11ms/step - loss: 0.0542 - accuracy: 0.9924 - val_loss: 0.0488 - val_accuracy: 1.0000\n",
      "Epoch 31/100\n",
      "9/9 [==============================] - 0s 10ms/step - loss: 0.0543 - accuracy: 0.9924 - val_loss: 0.0458 - val_accuracy: 1.0000\n",
      "Epoch 32/100\n",
      "9/9 [==============================] - 0s 11ms/step - loss: 0.0530 - accuracy: 0.9924 - val_loss: 0.0478 - val_accuracy: 0.9697\n",
      "Epoch 33/100\n",
      "9/9 [==============================] - 0s 11ms/step - loss: 0.0514 - accuracy: 0.9924 - val_loss: 0.0498 - val_accuracy: 0.9697\n",
      "Epoch 34/100\n",
      "9/9 [==============================] - 0s 13ms/step - loss: 0.0495 - accuracy: 0.9924 - val_loss: 0.0523 - val_accuracy: 0.9697\n",
      "Epoch 35/100\n",
      "9/9 [==============================] - 0s 16ms/step - loss: 0.0483 - accuracy: 0.9924 - val_loss: 0.0521 - val_accuracy: 0.9697\n",
      "Epoch 36/100\n",
      "9/9 [==============================] - 0s 11ms/step - loss: 0.0494 - accuracy: 0.9924 - val_loss: 0.0496 - val_accuracy: 0.9697\n",
      "Epoch 37/100\n",
      "9/9 [==============================] - 0s 10ms/step - loss: 0.0476 - accuracy: 0.9924 - val_loss: 0.0526 - val_accuracy: 0.9697\n",
      "Epoch 38/100\n",
      "9/9 [==============================] - 0s 10ms/step - loss: 0.0443 - accuracy: 0.9924 - val_loss: 0.0508 - val_accuracy: 0.9697\n",
      "Epoch 39/100\n",
      "9/9 [==============================] - 0s 11ms/step - loss: 0.0449 - accuracy: 0.9924 - val_loss: 0.0493 - val_accuracy: 0.9697\n",
      "Epoch 40/100\n",
      "9/9 [==============================] - 0s 11ms/step - loss: 0.0430 - accuracy: 0.9924 - val_loss: 0.0433 - val_accuracy: 0.9697\n",
      "Epoch 41/100\n",
      "9/9 [==============================] - 0s 12ms/step - loss: 0.0428 - accuracy: 0.9924 - val_loss: 0.0412 - val_accuracy: 1.0000\n",
      "Epoch 42/100\n",
      "9/9 [==============================] - 0s 10ms/step - loss: 0.0420 - accuracy: 0.9924 - val_loss: 0.0446 - val_accuracy: 0.9697\n",
      "Epoch 43/100\n",
      "9/9 [==============================] - 0s 11ms/step - loss: 0.0454 - accuracy: 0.9924 - val_loss: 0.0507 - val_accuracy: 0.9697\n",
      "Epoch 44/100\n",
      "9/9 [==============================] - 0s 11ms/step - loss: 0.0391 - accuracy: 0.9924 - val_loss: 0.0515 - val_accuracy: 0.9697\n",
      "Epoch 45/100\n",
      "9/9 [==============================] - 0s 10ms/step - loss: 0.0381 - accuracy: 0.9924 - val_loss: 0.0439 - val_accuracy: 0.9697\n",
      "Epoch 46/100\n",
      "9/9 [==============================] - 0s 11ms/step - loss: 0.0372 - accuracy: 0.9924 - val_loss: 0.0420 - val_accuracy: 0.9697\n",
      "Epoch 47/100\n",
      "9/9 [==============================] - 0s 11ms/step - loss: 0.0372 - accuracy: 0.9924 - val_loss: 0.0413 - val_accuracy: 0.9697\n",
      "Epoch 48/100\n",
      "9/9 [==============================] - 0s 10ms/step - loss: 0.0379 - accuracy: 0.9924 - val_loss: 0.0417 - val_accuracy: 0.9697\n",
      "Epoch 49/100\n",
      "9/9 [==============================] - 0s 12ms/step - loss: 0.0366 - accuracy: 0.9924 - val_loss: 0.0516 - val_accuracy: 0.9697\n",
      "Epoch 50/100\n",
      "9/9 [==============================] - 0s 16ms/step - loss: 0.0458 - accuracy: 0.9847 - val_loss: 0.0530 - val_accuracy: 0.9697\n",
      "Epoch 51/100\n",
      "9/9 [==============================] - 0s 12ms/step - loss: 0.0338 - accuracy: 0.9924 - val_loss: 0.0426 - val_accuracy: 0.9697\n"
     ]
    }
   ],
   "source": [
    "# Build the neural network model\n",
    "model = keras.Sequential([\n",
    "    layers.Dense(128, activation='relu', input_dim=X_train.shape[1]),\n",
    "    layers.Dense(64, activation='relu'),\n",
    "    layers.Dense(3, activation='softmax')  # Output layer with 3 classes (High, Average, Low)\n",
    "])\n",
    "\n",
    "# Compile the model\n",
    "model.compile(optimizer='adam', loss='categorical_crossentropy', metrics=['accuracy'])\n",
    "\n",
    "\n",
    "from tensorflow.keras.callbacks import EarlyStopping\n",
    "\n",
    "# Define early stopping callback\n",
    "early_stopping = EarlyStopping(monitor='val_loss', patience=10, restore_best_weights=True)\n",
    "\n",
    "# Train the model with early stopping\n",
    "history = model.fit(X_train, y_train_encoded, epochs=100, batch_size=16, validation_data=(X_val, y_val_encoded), callbacks=[early_stopping])\n"
   ]
  },
  {
   "cell_type": "code",
   "execution_count": 53,
   "metadata": {},
   "outputs": [
    {
     "name": "stdout",
     "output_type": "stream",
     "text": [
      "2/2 [==============================] - 0s 8ms/step - loss: 0.0412 - accuracy: 1.0000\n",
      "Validation accuracy: 1.0\n"
     ]
    }
   ],
   "source": [
    "\n",
    "# Evaluate the model\n",
    "loss, accuracy = model.evaluate(X_val, y_val_encoded)\n",
    "print(\"Validation accuracy:\", accuracy)\n"
   ]
  },
  {
   "cell_type": "code",
   "execution_count": 54,
   "metadata": {},
   "outputs": [
    {
     "data": {
      "image/png": "[encoded data removed]",
      "text/plain": [
       "<Figure size 640x480 with 1 Axes>"
      ]
     },
     "metadata": {},
     "output_type": "display_data"
    }
   ],
   "source": [
    "import matplotlib.pyplot as plt\n",
    "# Get the training and validation accuracy history\n",
    "training_accuracy = history.history['accuracy']\n",
    "validation_accuracy = history.history['val_accuracy']\n",
    "epochs = range(1, len(training_accuracy) + 1)\n",
    "\n",
    "# Plot the accuracy history\n",
    "plt.plot(epochs, training_accuracy, 'b', label='Training Accuracy')\n",
    "plt.plot(epochs, validation_accuracy, 'r', label='Validation Accuracy')\n",
    "plt.title('Training and Validation Accuracy')\n",
    "plt.xlabel('Epochs')\n",
    "plt.ylabel('Accuracy')\n",
    "plt.legend()\n",
    "plt.show()"
   ]
  },
  {
   "cell_type": "code",
   "execution_count": 55,
   "metadata": {},
   "outputs": [
    {
     "data": {
      "image/png": "[encoded data removed]",
      "text/plain": [
       "<Figure size 640x480 with 1 Axes>"
      ]
     },
     "metadata": {},
     "output_type": "display_data"
    }
   ],
   "source": [
    "# Plot the training loss and validation loss over epochs\n",
    "plt.plot(history.history['loss'], label='Training Loss')\n",
    "plt.plot(history.history['val_loss'], label='Validation Loss')\n",
    "plt.xlabel('Epoch')\n",
    "plt.ylabel('Loss')\n",
    "plt.title('Epoch vs. Loss')\n",
    "plt.legend()\n",
    "plt.show()"
   ]
  },
  {
   "cell_type": "code",
   "execution_count": 56,
   "metadata": {},
   "outputs": [
    {
     "name": "stdout",
     "output_type": "stream",
     "text": [
      "1/1 [==============================] - 0s 132ms/step\n",
      "Predicted: Low, Actual: Low  \n",
      "Predicted: Average, Actual: High\n",
      "Predicted: Average, Actual: High  \n",
      "Predicted: Average, Actual: High\n",
      "Predicted: Average, Actual: High\n",
      "Predicted: Average, Actual: High\n",
      "Predicted: Average, Actual: High\n",
      "Predicted: Average, Actual: High\n",
      "Predicted: Average, Actual: High\n",
      "Predicted: Low, Actual: Low\n",
      "Predicted: High, Actual: Low  \n",
      "Predicted: Average, Actual: High\n",
      "Predicted: Average, Actual: High  \n",
      "Predicted: Average, Actual: High\n",
      "Predicted: Low, Actual: Low\n",
      "Predicted: Average, Actual: High\n",
      "Predicted: Average, Actual: High\n",
      "Predicted: Average, Actual: High  \n",
      "Predicted: Average, Actual: High\n",
      "Predicted: Average, Actual: High\n",
      "Predicted: Average, Actual: High\n",
      "Predicted: Average, Actual: High\n",
      "Predicted: Average, Actual: High\n"
     ]
    }
   ],
   "source": [
    "# Load the test dataset\n",
    "test_df = pd.read_csv('test.csv')  # Replace with the path to your test dataset\n",
    "\n",
    "# Preprocess the test data\n",
    "X_test = preprocessor.transform(test_df.drop('Credit Score', axis=1))\n",
    "\n",
    "# Predict credit scores\n",
    "predictions = model.predict(X_test)\n",
    "\n",
    "# Convert predictions to original format\n",
    "predicted_scores = np.argmax(predictions, axis=1)  # Get the index of the highest probability\n",
    "score_mapping = {0: 'High', 1: 'Average', 2: 'Low'}\n",
    "predicted_scores = [score_mapping[pred] for pred in predicted_scores]\n",
    "\n",
    "# Compare predictions with actual credit scores\n",
    "actual_scores = test_df['Credit Score'].tolist()\n",
    "\n",
    "# Print the predictions and actual scores side by side\n",
    "for i in range(len(predicted_scores)):\n",
    "    print(f\"Predicted: {predicted_scores[i]}, Actual: {actual_scores[i]}\")\n"
   ]
  },
  {
   "cell_type": "code",
   "execution_count": 58,
   "metadata": {},
   "outputs": [
    {
     "name": "stdout",
     "output_type": "stream",
     "text": [
      "1/1 [==============================] - 0s 49ms/step\n",
      "Accuracy: 0.08695652173913043\n"
     ]
    }
   ],
   "source": [
    "from sklearn.metrics import accuracy_score\n",
    "\n",
    "# Load the test dataset\n",
    "test_df = pd.read_csv('test.csv')  # Replace with the path to your test dataset\n",
    "\n",
    "# Preprocess the test data\n",
    "X_test = preprocessor.transform(test_df.drop('Credit Score', axis=1))\n",
    "\n",
    "# Predict credit scores\n",
    "predictions = model.predict(X_test)\n",
    "predicted_scores = np.argmax(predictions, axis=1)  # Get the index of the highest probability\n",
    "\n",
    "# Convert predictions to original format\n",
    "score_mapping = {0: 'High', 1: 'Average', 2: 'Low'}\n",
    "predicted_scores = [score_mapping[pred] for pred in predicted_scores]\n",
    "\n",
    "# Extract actual scores from the test data\n",
    "actual_scores = test_df['Credit Score'].tolist()\n",
    "\n",
    "# Calculate accuracy\n",
    "accuracy = accuracy_score(actual_scores, predicted_scores)\n",
    "\n",
    "print(\"Accuracy:\", accuracy)\n"
   ]
  }
 ],
 "metadata": {
  "kernelspec": {
   "display_name": "Python 3",
   "language": "python",
   "name": "python3"
  },
  "language_info": {
   "codemirror_mode": {
    "name": "ipython",
    "version": 3
   },
   "file_extension": ".py",
   "mimetype": "text/x-python",
   "name": "python",
   "nbconvert_exporter": "python",
   "pygments_lexer": "ipython3",
   "version": "3.10.11"
  },
  "orig_nbformat": 4
 },
 "nbformat": 4,
 "nbformat_minor": 2
}
